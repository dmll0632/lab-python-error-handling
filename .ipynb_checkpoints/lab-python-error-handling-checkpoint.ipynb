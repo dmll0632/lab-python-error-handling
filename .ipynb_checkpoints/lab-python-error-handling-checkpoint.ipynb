{
 "cells": [
  {
   "cell_type": "markdown",
   "id": "25d7736c-ba17-4aff-b6bb-66eba20fbf4e",
   "metadata": {},
   "source": [
    "# Lab | Error Handling"
   ]
  },
  {
   "cell_type": "markdown",
   "id": "bc99b386-7508-47a0-bcdb-d969deaf6c8b",
   "metadata": {},
   "source": [
    "## Exercise: Error Handling for Managing Customer Orders\n",
    "\n",
    "The implementation of your code for managing customer orders assumes that the user will always enter a valid input. \n",
    "\n",
    "For example, we could modify the `initialize_inventory` function to include error handling.\n",
    "   - If the user enters an invalid quantity (e.g., a negative value or a non-numeric value), display an error message and ask them to re-enter the quantity for that product.\n",
    "   - Use a try-except block to handle the error and continue prompting the user until a valid quantity is entered.\n",
    "\n",
    "```python\n",
    "# Step 1: Define the function for initializing the inventory with error handling\n",
    "def initialize_inventory(products):\n",
    "    inventory = {}\n",
    "    for product in products:\n",
    "        valid_quantity = False\n",
    "        while not valid_quantity:\n",
    "            try:\n",
    "                quantity = int(input(f\"Enter the quantity of {product}s available: \"))\n",
    "                if quantity < 0:\n",
    "                    raise ValueError(\"Invalid quantity! Please enter a non-negative value.\")\n",
    "                valid_quantity = True\n",
    "            except ValueError as error:\n",
    "                print(f\"Error: {error}\")\n",
    "        inventory[product] = quantity\n",
    "    return inventory\n",
    "\n",
    "# Or, in another way:\n",
    "\n",
    "def initialize_inventory(products):\n",
    "    inventory = {}\n",
    "    for product in products:\n",
    "        valid_input = False\n",
    "        while not valid_input:\n",
    "            try:\n",
    "                quantity = int(input(f\"Enter the quantity of {product}s available: \"))\n",
    "                if quantity >= 0:\n",
    "                    inventory[product] = quantity\n",
    "                    valid_input = True\n",
    "                else:\n",
    "                    print(\"Quantity cannot be negative. Please enter a valid quantity.\")\n",
    "            except ValueError:\n",
    "                print(\"Invalid input. Please enter a valid quantity.\")\n",
    "    return inventory\n",
    "```\n",
    "\n",
    "Let's enhance your code by implementing error handling to handle invalid inputs.\n",
    "\n",
    "Follow the steps below to complete the exercise:\n",
    "\n",
    "2. Modify the `calculate_total_price` function to include error handling.\n",
    "   - If the user enters an invalid price (e.g., a negative value or a non-numeric value), display an error message and ask them to re-enter the price for that product.\n",
    "   - Use a try-except block to handle the error and continue prompting the user until a valid price is entered.\n",
    "\n",
    "3. Modify the `get_customer_orders` function to include error handling.\n",
    "   - If the user enters an invalid number of orders (e.g., a negative value or a non-numeric value), display an error message and ask them to re-enter the number of orders.\n",
    "   - If the user enters an invalid product name (e.g., a product name that is not in the inventory), or that doesn't have stock available, display an error message and ask them to re-enter the product name. *Hint: you will need to pass inventory as a parameter*\n",
    "   - Use a try-except block to handle the error and continue prompting the user until a valid product name is entered.\n",
    "\n",
    "4. Test your code by running the program and deliberately entering invalid quantities and product names. Make sure the error handling mechanism works as expected.\n"
   ]
  },
  {
   "cell_type": "code",
   "execution_count": 5,
   "id": "aa429ba4-a62a-4f95-a2f7-bfe3fa214a46",
   "metadata": {},
   "outputs": [
    {
     "name": "stdin",
     "output_type": "stream",
     "text": [
      "Enter the quantity of t-shirts available:  \n"
     ]
    },
    {
     "name": "stdout",
     "output_type": "stream",
     "text": [
      "Invalid input. Please enter a valid quantity.\n"
     ]
    },
    {
     "name": "stdin",
     "output_type": "stream",
     "text": [
      "Enter the quantity of t-shirts available:  \n"
     ]
    },
    {
     "name": "stdout",
     "output_type": "stream",
     "text": [
      "Invalid input. Please enter a valid quantity.\n"
     ]
    },
    {
     "name": "stdin",
     "output_type": "stream",
     "text": [
      "Enter the quantity of t-shirts available:  5\n",
      "Enter the quantity of mugs available:  5\n",
      "Enter the quantity of hats available:  5\n",
      "Enter the quantity of books available:  5\n",
      "Enter the quantity of keychains available:  5\n"
     ]
    },
    {
     "data": {
      "text/plain": [
       "{'t-shirt': 5, 'mug': 5, 'hat': 5, 'book': 5, 'keychain': 5}"
      ]
     },
     "execution_count": 5,
     "metadata": {},
     "output_type": "execute_result"
    }
   ],
   "source": [
    "\n",
    "products =[\"t-shirt\", \"mug\", \"hat\", \"book\", \"keychain\"]\n",
    "def initialize_inventory(products):\n",
    "    inventory = {}\n",
    "    for product in products:\n",
    "        valid_input = False\n",
    "        while not valid_input:\n",
    "            try:\n",
    "                quantity = int(input(f\"Enter the quantity of {product}s available: \"))\n",
    "                if quantity >= 0:\n",
    "                    inventory[product] = quantity\n",
    "                    valid_input = True\n",
    "                else:\n",
    "                    print(\"Quantity cannot be negative. Please enter a valid quantity.\")\n",
    "            except ValueError:\n",
    "                print(\"Invalid input. Please enter a valid quantity.\")\n",
    "    return inventory\n",
    "\n",
    "\n",
    "initialize_inventory(products)"
   ]
  },
  {
   "cell_type": "markdown",
   "id": "5eb89315-0d80-4622-8c6f-3c43697ce1ac",
   "metadata": {},
   "source": [
    "**QUESTION 1**\n",
    "\n",
    "let's enhance your code by implementing error handling to handle invalid inputs.\n",
    "Follow the steps below to complete the exercise:\n",
    "Modify the calculate_total_price function to include error handling.\n",
    "If the user enters an invalid price (e.g., a negative value or a non-numeric value), display an error message and ask them to re-enter the price for that product.\n",
    "Use a try-except block to handle the error and continue prompting the user until a valid price is entered."
   ]
  },
  {
   "cell_type": "code",
   "execution_count": 19,
   "id": "e1cb340b-0964-45d9-a6ef-d0f7c062e8f0",
   "metadata": {},
   "outputs": [],
   "source": [
    "\n",
    "products =[\"t-shirt\", \"mug\", \"hat\", \"book\", \"keychain\"]\n",
    "def calculate_total_price(products):\n",
    "    price_list={}\n",
    "    for product in products :\n",
    "        valid_input=False\n",
    "        while not valid_input:\n",
    "            try:\n",
    "                price = int(input(f\"Enter the price of {product}s\"))\n",
    "                if price > 0:\n",
    "                    price_list[\"Price of \" + product]=price\n",
    "                    valid_input = True\n",
    "                else:\n",
    "                    print(\"Prices cannot be negative or zero, please try again.\")\n",
    "            except ValueError :\n",
    "                print(\"Invalid input, please try again.\")\n",
    "    total_price = sum(price_list.values())\n",
    "    price_list[\"total\"] = total_price\n",
    "    return price_list"
   ]
  },
  {
   "cell_type": "code",
   "execution_count": 20,
   "id": "48096406-5f7d-477f-bc2d-d8b2c5e21436",
   "metadata": {},
   "outputs": [
    {
     "name": "stdin",
     "output_type": "stream",
     "text": [
      "Enter the price of t-shirts 55\n",
      "Enter the price of mugs 41\n",
      "Enter the price of hats 58\n",
      "Enter the price of books 40\n",
      "Enter the price of keychains 10\n"
     ]
    },
    {
     "data": {
      "text/plain": [
       "{'Price of t-shirt': 55,\n",
       " 'Price of mug': 41,\n",
       " 'Price of hat': 58,\n",
       " 'Price of book': 40,\n",
       " 'Price of keychain': 10,\n",
       " 'total': 204}"
      ]
     },
     "execution_count": 20,
     "metadata": {},
     "output_type": "execute_result"
    }
   ],
   "source": [
    "calculate_total_price(products)"
   ]
  },
  {
   "cell_type": "code",
   "execution_count": 21,
   "id": "fd1f106a-dd0a-426d-a8b6-45292789d141",
   "metadata": {},
   "outputs": [
    {
     "name": "stdin",
     "output_type": "stream",
     "text": [
      "Enter the price of t-shirts 55\n",
      "Enter the price of mugs 74\n",
      "Enter the price of hats 12\n",
      "Enter the price of books 10\n",
      "Enter the price of keychains 20\n"
     ]
    },
    {
     "name": "stdout",
     "output_type": "stream",
     "text": [
      "Prices of individual products and total price:\n",
      "Price of t-shirt: $55.00\n",
      "Price of mug: $74.00\n",
      "Price of hat: $12.00\n",
      "Price of book: $10.00\n",
      "Price of keychain: $20.00\n",
      "Total: $171.00\n"
     ]
    }
   ],
   "source": [
    "total_prices = calculate_total_price(products)\n",
    "print(\"Prices of individual products and total price:\")\n",
    "for product, price in total_prices.items():\n",
    "    print(f\"{product.capitalize()}: ${price:.2f}\")"
   ]
  },
  {
   "cell_type": "markdown",
   "id": "fad83f23-5a13-4dff-98eb-fd3af28a9761",
   "metadata": {},
   "source": [
    "# Question 2\n",
    "\n",
    "3. Modify the `get_customer_orders` function to include error handling.\n",
    "   - If the user enters an invalid number of orders (e.g., a negative value or a non-numeric value), display an error message and ask them to re-enter the number of orders.\n",
    "   - If the user enters an invalid product name (e.g., a product name that is not in the inventory), or that doesn't have stock available, display an error message and ask them to re-enter the product name. *Hint: you will need to pass inventory as a parameter*\n",
    "   - Use a try-except block to handle the error and continue prompting the user until a valid product name is entered.\n",
    "\n",
    "\n"
   ]
  },
  {
   "cell_type": "code",
   "execution_count": 20,
   "id": "bddda8ff-386c-462f-aea7-8bfe1c6cc0e3",
   "metadata": {},
   "outputs": [],
   "source": [
    "products =[\"t-shirt\", \"mug\", \"hat\", \"book\", \"keychain\"]\n",
    "\n",
    "def get_customer_orders(products):\n",
    "    customer_orders= dict()\n",
    "    for product in products :\n",
    "        valid_input = False\n",
    "        while not valid_input:\n",
    "            try:\n",
    "                how_many = int(input(f\" How many {product} would you like to buy?\"))\n",
    "                if how_many >= 0 :\n",
    "                    customer_orders[product]= how_many\n",
    "                    valid_input = True\n",
    "                else :\n",
    "                    print(\"Negative numbers cannot be excepted, please try again!\" )\n",
    "            except ValueError :\n",
    "                print(\"Invalid input, please try again.\")\n",
    "                 \n",
    "    return(customer_orders)\n",
    "    \n",
    "\n",
    "\n",
    "\n",
    "        \n",
    "        \n",
    "    \n",
    "        "
   ]
  },
  {
   "cell_type": "code",
   "execution_count": 22,
   "id": "96f6fc47-2270-4860-9255-4f91db745b51",
   "metadata": {},
   "outputs": [
    {
     "name": "stdin",
     "output_type": "stream",
     "text": [
      " How many t-shirt would you like to buy? 5\n",
      " How many mug would you like to buy? ä\n"
     ]
    },
    {
     "name": "stdout",
     "output_type": "stream",
     "text": [
      "Invalid input, please try again.\n"
     ]
    },
    {
     "name": "stdin",
     "output_type": "stream",
     "text": [
      " How many mug would you like to buy? 45\n",
      " How many hat would you like to buy? 10\n",
      " How many book would you like to buy? 74\n",
      " How many keychain would you like to buy? 2\n"
     ]
    },
    {
     "name": "stdout",
     "output_type": "stream",
     "text": [
      "The products you ordered and their quantities:\n",
      "t-shirt: 5\n",
      "mug: 45\n",
      "hat: 10\n",
      "book: 74\n",
      "keychain: 2\n"
     ]
    }
   ],
   "source": [
    "all_customer_orders = get_customer_orders(products)\n",
    "print(\"The products you ordered and their quantities:\")\n",
    "for product, how_many in all_customer_orders.items():\n",
    "    print(f\"{product}: {how_many}\")"
   ]
  },
  {
   "cell_type": "code",
   "execution_count": 23,
   "id": "b9cbbd8d-cbaf-4e2c-ad1b-446dbe3722de",
   "metadata": {},
   "outputs": [
    {
     "data": {
      "text/plain": [
       "{'t-shirt': 5, 'mug': 45, 'hat': 10, 'book': 74, 'keychain': 2}"
      ]
     },
     "execution_count": 23,
     "metadata": {},
     "output_type": "execute_result"
    }
   ],
   "source": [
    "all_customer_orders"
   ]
  },
  {
   "cell_type": "code",
   "execution_count": null,
   "id": "73e89ee5-08bb-457e-ac23-783bec1bb964",
   "metadata": {},
   "outputs": [],
   "source": []
  }
 ],
 "metadata": {
  "kernelspec": {
   "display_name": "Python 3 (ipykernel)",
   "language": "python",
   "name": "python3"
  },
  "language_info": {
   "codemirror_mode": {
    "name": "ipython",
    "version": 3
   },
   "file_extension": ".py",
   "mimetype": "text/x-python",
   "name": "python",
   "nbconvert_exporter": "python",
   "pygments_lexer": "ipython3",
   "version": "3.11.7"
  }
 },
 "nbformat": 4,
 "nbformat_minor": 5
}
